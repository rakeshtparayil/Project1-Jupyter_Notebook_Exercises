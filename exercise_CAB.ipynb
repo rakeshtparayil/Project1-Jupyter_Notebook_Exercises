{
 "cells": [
  {
   "cell_type": "markdown",
   "metadata": {},
   "source": [
    "# Exercise 1\n",
    "\n",
    "In your file create a variable called my_name with your name as the value. Put your name inside string quotes, e.g., \"my name\". Then add a line of code to print the variable name.\n",
    "\n",
    "#Save your file and run the cell. You should see your name printed. If not, investigate and fix it.\n"
   ]
  },
  {
   "cell_type": "code",
   "execution_count": 4,
   "metadata": {},
   "outputs": [
    {
     "name": "stdout",
     "output_type": "stream",
     "text": [
      "Rakesh\n"
     ]
    }
   ],
   "source": [
    "my_name = \"Rakesh\"\n",
    "print(my_name)"
   ]
  },
  {
   "cell_type": "markdown",
   "metadata": {},
   "source": [
    "# Exercise 2\n",
    "Create a variable called age with a number that is your age. Do not use string quotes for numbers.\n",
    "\n",
    "Add a line to print that variable. Save the file and run the cell. You should see your age."
   ]
  },
  {
   "cell_type": "code",
   "execution_count": 5,
   "metadata": {},
   "outputs": [
    {
     "name": "stdout",
     "output_type": "stream",
     "text": [
      "38\n"
     ]
    }
   ],
   "source": [
    "Age = 38\n",
    "print(Age)"
   ]
  },
  {
   "cell_type": "markdown",
   "metadata": {},
   "source": [
    "# Exercise 3\n",
    "Create a variable called julia_age with the value 32. Create another variable called age_diff and set it to an expression that calculates your age minus Julias's age. Print your age and the value of age_diff. If you are younger than Julia, age_diff should be a negative number.\n",
    "\n",
    "Writing Code with Conditionals\n",
    "Conditionals are forms used in programming to tell the computer to do different things, depending on some test, e.g., \"if the user is logged in, say \"Hi\", else say \"Please log in.\"\n",
    "\n",
    "The most basic conditional form is if...else..."
   ]
  },
  {
   "cell_type": "code",
   "execution_count": null,
   "metadata": {},
   "outputs": [
    {
     "name": "stdout",
     "output_type": "stream",
     "text": [
      "JUlia is younger by -6 years\n"
     ]
    }
   ],
   "source": [
    "Julia_age = 32\n",
    "my_age = 38\n",
    "if Julia_age > my_age:\n",
    "    print(\"julia is older by\", Julia_age-my_age, \"years\")\n",
    "else:\n",
    "    print(\"JUlia is younger by\", Julia_age-my_age, \"years\")"
   ]
  },
  {
   "cell_type": "markdown",
   "metadata": {},
   "source": [
    "Exercise 4\n",
    "Write a conditional that compares the variable holding your age with the number 21. It should print either \"You are older than 21\" or \"You are not older than 21\", appropriately, depending on your age. Save your file and run the cell. Make sure you see the correct message. Try changing your age in the file to make sure the other message prints when it should."
   ]
  },
  {
   "cell_type": "code",
   "execution_count": null,
   "metadata": {},
   "outputs": [
    {
     "name": "stdout",
     "output_type": "stream",
     "text": [
      "you are younger than 21\n"
     ]
    }
   ],
   "source": [
    "Number = 21\n",
    "Your_Age = 38\n",
    "if Number < Your_Age:\n",
    "    print(\"you are older than 21\")\n",
    "else:\n",
    "    print(\"you are younger than 21\")"
   ]
  },
  {
   "cell_type": "markdown",
   "metadata": {},
   "source": [
    "Exercise 5\n",
    "Write a conditional that compares your age with Julia's age. This conditional will need to test if you are older, younger, or the same age, and print, appropriately, either \"Julia is older than you\", \"Julia is younger than you\", or \"You are the same age as Julia\"."
   ]
  },
  {
   "cell_type": "code",
   "execution_count": null,
   "metadata": {},
   "outputs": [
    {
     "name": "stdout",
     "output_type": "stream",
     "text": [
      "Julia is younger than you\n"
     ]
    }
   ],
   "source": [
    "Julia_age = 32\n",
    "My_age = 38\n",
    "\n",
    "if My_age < Julia_age:\n",
    "    print(\"julia is older\")\n",
    "elif My_age == Julia_age:\n",
    "    print(\"you and julia are same age\")\n",
    "else:\n",
    "    print(\"Julia is younger than you\")"
   ]
  },
  {
   "cell_type": "markdown",
   "metadata": {},
   "source": [
    "Exercise 6\n",
    "Create a list with all the names of your class (including mentors). Sort the list alphabetically, then print the first element of the list.\n",
    "On the next line, print the last element of the list.\n",
    "On the next line, print all the elements of the list (use a \"for\" loop).\n",
    "You should see the first element of the sorted list, the last element of the sorted list, and then all the elements in sorted order."
   ]
  },
  {
   "cell_type": "code",
   "execution_count": null,
   "metadata": {},
   "outputs": [
    {
     "name": "stdout",
     "output_type": "stream",
     "text": [
      "alex\n",
      "emily\n",
      "pablo\n",
      "rakesh\n",
      "sudha\n",
      "tim\n"
     ]
    }
   ],
   "source": [
    "llamas = [\"alex\", \"tim\", \"pablo\", \"sudha\", \"rakesh\", \"emily\"]\n",
    "llamas.sort()\n",
    "# print(llamas[0:1])\n",
    "# print(llamas[5])\n",
    "for llamas in llamas:\n",
    "    print(llamas)"
   ]
  },
  {
   "cell_type": "markdown",
   "metadata": {},
   "source": [
    "Exercise 7\n",
    "Create a list with all the ages of the students in your class. Iterate through the list using a for loop, and then print every age. Add a conditional inside the loop to only print even numbers.\n",
    "You should see every age printed, then only the even numbers printed. If not, investigate and fix it.\n",
    "Then do the same using a while loop.\n",
    "\n"
   ]
  },
  {
   "cell_type": "code",
   "execution_count": 147,
   "metadata": {},
   "outputs": [
    {
     "name": "stdout",
     "output_type": "stream",
     "text": [
      "12 This is all numbers\n",
      "13 This is all numbers\n",
      "16 This is all numbers\n",
      "17 This is all numbers\n",
      "20 This is all numbers\n",
      "24 This is all numbers\n",
      "12 for loop\n",
      "16 for loop\n",
      "20 for loop\n",
      "24 for loop\n",
      "12 while loop\n",
      "16 while loop\n",
      "20 while loop\n",
      "24 while loop\n"
     ]
    }
   ],
   "source": [
    "# List of ages\n",
    "ages = [12, 13, 16, 17, 20, 24]\n",
    "for age in ages:\n",
    "        print(age,\"This is all numbers\") \n",
    "\n",
    "\n",
    "# List of ages\n",
    "ages = [12, 13, 16, 17, 20, 24]\n",
    "for age in ages:\n",
    "    if age % 2 == 0:\n",
    "        print(age,\"for loop\") \n",
    "\n",
    "ages = [12, 13, 16, 17, 20, 24]\n",
    "index = 0\n",
    "\n",
    "while index < len(ages):\n",
    "    if ages[index] % 2 == 0:\n",
    "        print(ages[index], \"while loop\")\n",
    "    index += 1\n",
    "\n"
   ]
  },
  {
   "cell_type": "markdown",
   "metadata": {},
   "source": [
    "Exercise 8\n",
    "Write a list containing numbers and print the lowest number."
   ]
  },
  {
   "cell_type": "code",
   "execution_count": 154,
   "metadata": {},
   "outputs": [
    {
     "name": "stdout",
     "output_type": "stream",
     "text": [
      "1\n"
     ]
    }
   ],
   "source": [
    "my_numbers = [1,3,4,5,6,9]\n",
    "lowest =min(my_numbers)\n",
    "print(lowest)"
   ]
  },
  {
   "cell_type": "markdown",
   "metadata": {},
   "source": [
    "Exercise 9\n",
    "Write a list containing numbers and print the highest number."
   ]
  },
  {
   "cell_type": "code",
   "execution_count": 155,
   "metadata": {},
   "outputs": [
    {
     "name": "stdout",
     "output_type": "stream",
     "text": [
      "9\n"
     ]
    }
   ],
   "source": [
    "my_numbers = [1,3,4,5,6,9]\n",
    "highest =max(my_numbers)\n",
    "print(highest)"
   ]
  },
  {
   "cell_type": "markdown",
   "metadata": {},
   "source": [
    "Exercise 10\n",
    "Given below is a list of 10 customers with year of birth, however, the list can be as large as several thousands of customers."
   ]
  },
  {
   "cell_type": "code",
   "execution_count": 178,
   "metadata": {},
   "outputs": [
    {
     "name": "stdout",
     "output_type": "stream",
     "text": [
      "25\n",
      "29\n",
      "19\n",
      "14\n",
      "17\n",
      "18\n",
      "30\n",
      "28\n",
      "45\n",
      "16\n"
     ]
    }
   ],
   "source": [
    "years =[1999, 1995, 2005, 2010, 2007, 2006, 1994, 1996, 1979, 2008]\n",
    "current_year = 2024\n",
    "def age_function(current_year,years):\n",
    "    for x in years:\n",
    "        print(current_year - x)\n",
    "\n",
    "age_function(current_year, years)\n",
    "\n"
   ]
  },
  {
   "cell_type": "markdown",
   "metadata": {},
   "source": [
    "Given below is a list of 10 customers with name and year of birth, however, the list can be as large as several thousands of customers.\n",
    "\n",
    "Use a loop to iterate over the list and print the name and age of each customer.\n",
    "Afterwards, for each customer try to print the sentence \"customer_name is customer_age years old\".\n",
    "customer_name and customer_age should correspond to each customer's name and age."
   ]
  },
  {
   "cell_type": "code",
   "execution_count": 15,
   "metadata": {},
   "outputs": [
    {
     "name": "stdout",
     "output_type": "stream",
     "text": [
      "Bob is 25 years old\n",
      "Jack is 29 years old\n",
      "Lisa is 19 years old\n",
      "Maria is 14 years old\n",
      "Ben is 17 years old\n",
      "Emma is 18 years old\n",
      "Oscar is 30 years old\n",
      "Amy is 28 years old\n",
      "Paul is 45 years old\n",
      "Etta is 16 years old\n"
     ]
    }
   ],
   "source": [
    "customer_list = [\n",
    "                    {\"name\": \"Bob\", \"age\": 1999},\n",
    "                    {\"name\": \"Jack\", \"age\": 1995},\n",
    "                    {\"name\": \"Lisa\", \"age\": 2005},\n",
    "                    {\"name\": \"Maria\", \"age\": 2010},\n",
    "                    {\"name\": \"Ben\", \"age\": 2007},\n",
    "                    {\"name\": \"Emma\", \"age\": 2006},\n",
    "                    {\"name\": \"Oscar\", \"age\": 1994},\n",
    "                    {\"name\": \"Amy\", \"age\": 1996},\n",
    "                    {\"name\": \"Paul\", \"age\": 1979},\n",
    "                    {\"name\": \"Etta\", \"age\": 2008}\n",
    "                ]\n",
    "current_year = 2024\n",
    "for customer in customer_list:\n",
    "    age = current_year - customer[\"age\"]\n",
    "    print(customer[\"name\"], \"is\" ,age,\"years old\")"
   ]
  },
  {
   "cell_type": "markdown",
   "metadata": {},
   "source": [
    "Exercise 12\n",
    "Given a list of ages, remove the youngest and the oldest person."
   ]
  },
  {
   "cell_type": "code",
   "execution_count": 21,
   "metadata": {},
   "outputs": [
    {
     "name": "stdout",
     "output_type": "stream",
     "text": [
      "[11, 12, 13, 14, 20, 23, 24, 25]\n"
     ]
    }
   ],
   "source": [
    "ages = [20, 24, 14, 9, 12, 13, 25, 23, 40, 11]\n",
    "ages.sort()\n",
    "ages.pop(0)\n",
    "ages.pop(-1)\n",
    "print(ages)\n"
   ]
  },
  {
   "cell_type": "markdown",
   "metadata": {},
   "source": [
    "Exercise 13\n",
    "You have two lists with ages of customers from different cities.\n",
    "The task is to create a new list with the common ages."
   ]
  },
  {
   "cell_type": "code",
   "execution_count": 22,
   "metadata": {},
   "outputs": [
    {
     "name": "stdout",
     "output_type": "stream",
     "text": [
      "[10, 13, 15, 16, 18, 19]\n"
     ]
    }
   ],
   "source": [
    "berlin = [15, 13, 16, 18, 19, 10, 12 ]\n",
    "munich = [7, 13, 15, 20, 19, 18, 10, 16]\n",
    "cities = list(set(berlin).intersection(munich))\n",
    "print(cities)\n"
   ]
  },
  {
   "cell_type": "markdown",
   "metadata": {},
   "source": [
    "Exercise 13 You have a list with ages.\n",
    "\n",
    "[15, 13, 16, 18, 19, 15, 10]\n",
    "Remove the duplicates."
   ]
  },
  {
   "cell_type": "code",
   "execution_count": 23,
   "metadata": {},
   "outputs": [
    {
     "name": "stdout",
     "output_type": "stream",
     "text": [
      "[11, 12, 13, 14, 20, 23, 24, 25]\n"
     ]
    }
   ],
   "source": [
    "age = [15, 13, 16, 18, 19, 15, 10]\n",
    "ages = list(dict.fromkeys(ages))\n",
    "print(ages)"
   ]
  },
  {
   "cell_type": "markdown",
   "metadata": {},
   "source": [
    "Exercise 15\n",
    "Write a function that works like below:\n",
    "Function name: welcome\n",
    "welcome('Evelyn') would print- 'Welcome Evelyn, have a nice day!'\n",
    "welcome('Jost'), would print - 'Welcome Jost, have a nice day!'"
   ]
  },
  {
   "cell_type": "code",
   "execution_count": null,
   "metadata": {},
   "outputs": [
    {
     "name": "stdout",
     "output_type": "stream",
     "text": [
      "Welcome jost\n",
      "Welcome jost have a nice day\n"
     ]
    }
   ],
   "source": [
    "def welcome(name):\n",
    "    print(\"Welcome\",  name)\n",
    "    print(\"Welcome\",  name , \"have a nice day!\")\n",
    "\n",
    "welcome(\"jost\")"
   ]
  },
  {
   "cell_type": "markdown",
   "metadata": {},
   "source": [
    "Exercise 16\n",
    "Write a function that takes a string as input and calculates the length.\n",
    "\n",
    "Function name: get_length\n",
    "\n",
    "get_length('Hello') would print / return 5.\n",
    "\n",
    "get_length('Hi') would print / return 2."
   ]
  },
  {
   "cell_type": "code",
   "execution_count": 17,
   "metadata": {},
   "outputs": [
    {
     "name": "stdout",
     "output_type": "stream",
     "text": [
      "5\n"
     ]
    }
   ],
   "source": [
    "def get_length(name):\n",
    "    print(len(name))\n",
    "\n",
    "get_length(\"julia\")\n",
    "    "
   ]
  },
  {
   "cell_type": "markdown",
   "metadata": {},
   "source": [
    "Exercise 17\n",
    "Write a function which checks whether a number is even.\n",
    "\n",
    "Hint: Think about the modulus operator\n",
    "\n",
    "Function name: check_even\n",
    "\n",
    "check_even(6) would print / return 'Yes'\n",
    "\n",
    "check_even(5) would print / return 'No'"
   ]
  },
  {
   "cell_type": "code",
   "execution_count": 28,
   "metadata": {},
   "outputs": [
    {
     "name": "stdout",
     "output_type": "stream",
     "text": [
      "no\n"
     ]
    }
   ],
   "source": [
    "def check_even(number):\n",
    "    if number%2 == 0:\n",
    "        return \"yes\"\n",
    "    else:\n",
    "        return \"no\"\n",
    "\n",
    "print(check_even(3))"
   ]
  },
  {
   "cell_type": "markdown",
   "metadata": {},
   "source": [
    "Exercise 18\n",
    "Rewrite exercises 11, 12, 13, and 14 in a function.\n",
    "\n"
   ]
  },
  {
   "cell_type": "code",
   "execution_count": null,
   "metadata": {},
   "outputs": [
    {
     "name": "stdout",
     "output_type": "stream",
     "text": [
      "[14, 13, 12, 11]\n"
     ]
    }
   ],
   "source": [
    "def number(list):\n",
    "    print(list[::-1])\n",
    "list = [11,12,13,14]\n",
    "\n",
    "number(list)\n"
   ]
  },
  {
   "cell_type": "markdown",
   "metadata": {},
   "source": [
    "Exercise 19\n",
    "Write a function that takes a list of integers and also a single integer as inputs. It should return true or false if the single integer value is present or not in the list."
   ]
  },
  {
   "cell_type": "code",
   "execution_count": null,
   "metadata": {},
   "outputs": [
    {
     "name": "stdout",
     "output_type": "stream",
     "text": [
      "True\n",
      "False\n"
     ]
    }
   ],
   "source": []
  }
 ],
 "metadata": {
  "kernelspec": {
   "display_name": "CAB_V1",
   "language": "python",
   "name": "python3"
  },
  "language_info": {
   "codemirror_mode": {
    "name": "ipython",
    "version": 3
   },
   "file_extension": ".py",
   "mimetype": "text/x-python",
   "name": "python",
   "nbconvert_exporter": "python",
   "pygments_lexer": "ipython3",
   "version": "3.12.2"
  }
 },
 "nbformat": 4,
 "nbformat_minor": 2
}
