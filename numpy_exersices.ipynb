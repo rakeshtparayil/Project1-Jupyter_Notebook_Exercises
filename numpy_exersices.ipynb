{
 "cells": [
  {
   "cell_type": "markdown",
   "metadata": {},
   "source": [
    "# Exercise 1\n",
    "There are 5 numbers in the data set: (8, 12, 16, 24, 4). What is the standard deviation? And, what will be the sum of deviations of individual data points from their mean?\n",
    "\n"
   ]
  },
  {
   "cell_type": "code",
   "execution_count": 5,
   "metadata": {},
   "outputs": [
    {
     "data": {
      "text/plain": [
       "np.float64(6.881860213634101)"
      ]
     },
     "execution_count": 5,
     "metadata": {},
     "output_type": "execute_result"
    }
   ],
   "source": [
    "import numpy as np\n",
    "\n",
    "arriD = np.array([8,12,16,24,4])\n",
    "np.std(arriD)\n"
   ]
  },
  {
   "cell_type": "markdown",
   "metadata": {},
   "source": [
    "# Exercise 2\n",
    "If some outliers are introduced to the dataset, what will happen to the Standard Deviation? Will it increase, decrease or remain the same?\n",
    "This will increase"
   ]
  },
  {
   "cell_type": "markdown",
   "metadata": {},
   "source": [
    "# Exercise 3 - no Numpy\n",
    "\n",
    "Suppose the below positively skewed distribution has a median of 30, which of the following statement is true?\n",
    "\n",
    "A) Mean is greater than 30\n",
    "B) Mean is less than 30\n",
    "C) Mode is greater than 30\n",
    "D) Mode is less than 30\n",
    "E) Both A and D\n",
    "F) Both B and C\n",
    "\n",
    "A)Both A and D"
   ]
  },
  {
   "cell_type": "markdown",
   "metadata": {},
   "source": [
    "# Exercise 4\n",
    "Which value can be the possible value for the median of the below distribution?\n",
    "\n",
    "Answer 30"
   ]
  },
  {
   "cell_type": "markdown",
   "metadata": {},
   "source": [
    "# Exercise 5 \n",
    "\n",
    "What is the shape of the distribution? Positive skew\n",
    "\n",
    "# Exercise 6\n",
    "What would you consider to be the most appropriate measure of the center for this data? The Mode\n",
    "\n",
    "# Exercise 7\n",
    "If Y axis represents the number of individuals and X axis represents the salary of the individual in thousands, how many individuals have a salary less than 10 thousand? (no Numpy) 36\n",
    "\n"
   ]
  },
  {
   "cell_type": "markdown",
   "metadata": {},
   "source": [
    "# Exercise 8\n",
    "We have a set of positive numbers. If a single value of the set is altered, what must change? Mode"
   ]
  },
  {
   "cell_type": "code",
   "execution_count": 19,
   "metadata": {},
   "outputs": [
    {
     "name": "stdout",
     "output_type": "stream",
     "text": [
      "3.2857142857142856\n",
      "3.0\n"
     ]
    }
   ],
   "source": [
    "arr_1 = [2,1,2,3,4,5,6]\n",
    "median = np.median(arr_1)\n",
    "Mean = np.mean(arr_1)\n",
    "print(Mean)\n",
    "print(median)"
   ]
  },
  {
   "cell_type": "markdown",
   "metadata": {},
   "source": [
    "# Exercise 9\n",
    "Calculate the standard deviation of the salaries of the 10 employees."
   ]
  },
  {
   "cell_type": "code",
   "execution_count": 21,
   "metadata": {},
   "outputs": [
    {
     "data": {
      "text/plain": [
       "np.float64(10.44030650891055)"
      ]
     },
     "execution_count": 21,
     "metadata": {},
     "output_type": "execute_result"
    }
   ],
   "source": [
    "arr_2 = [25,25,25,40,40,35,50,50,50,50]\n",
    "np.std(arr_2)"
   ]
  },
  {
   "cell_type": "markdown",
   "metadata": {},
   "source": [
    "# Exercise 10\n",
    "Which of the following normal distributions will have the greatest spread?\n",
    "\n",
    "A) mu=5, sigma =1.5\n",
    "B) mu=10, sigma =1.0\n",
    "C) mu=5, sigma =1.65\n",
    "D) mu=8, sigma =1.2\n",
    "E) mu=10, sigma =1.6\n",
    "\n",
    "Answer :1.65"
   ]
  }
 ],
 "metadata": {
  "kernelspec": {
   "display_name": "CAB_V1",
   "language": "python",
   "name": "python3"
  },
  "language_info": {
   "codemirror_mode": {
    "name": "ipython",
    "version": 3
   },
   "file_extension": ".py",
   "mimetype": "text/x-python",
   "name": "python",
   "nbconvert_exporter": "python",
   "pygments_lexer": "ipython3",
   "version": "3.12.2"
  }
 },
 "nbformat": 4,
 "nbformat_minor": 2
}
