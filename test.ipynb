{
 "cells": [
  {
   "cell_type": "code",
   "execution_count": 4,
   "metadata": {},
   "outputs": [
    {
     "name": "stdout",
     "output_type": "stream",
     "text": [
      "hello world\n"
     ]
    }
   ],
   "source": [
    "print(\"hello world\")"
   ]
  },
  {
   "cell_type": "code",
   "execution_count": null,
   "metadata": {},
   "outputs": [],
   "source": []
  },
  {
   "cell_type": "code",
   "execution_count": null,
   "metadata": {},
   "outputs": [
    {
     "name": "stdout",
     "output_type": "stream",
     "text": [
      "your name is,rakesh\n"
     ]
    }
   ],
   "source": []
  },
  {
   "cell_type": "code",
   "execution_count": 5,
   "metadata": {},
   "outputs": [
    {
     "name": "stdout",
     "output_type": "stream",
     "text": [
      "10\n"
     ]
    }
   ],
   "source": [
    "x=10\n",
    "y=5\n",
    "print(x)"
   ]
  },
  {
   "cell_type": "code",
   "execution_count": 7,
   "metadata": {},
   "outputs": [
    {
     "name": "stdout",
     "output_type": "stream",
     "text": [
      "3.0\n"
     ]
    }
   ],
   "source": [
    "x = str(3)\n",
    "y = int(3)\n",
    "z =float(3)\n",
    "print(z)"
   ]
  },
  {
   "cell_type": "code",
   "execution_count": 8,
   "metadata": {},
   "outputs": [
    {
     "name": "stdout",
     "output_type": "stream",
     "text": [
      "<class 'str'>\n"
     ]
    }
   ],
   "source": [
    "x = 5 \n",
    "y = \"john\"\n",
    "print(type(y))"
   ]
  },
  {
   "cell_type": "code",
   "execution_count": 9,
   "metadata": {},
   "outputs": [
    {
     "name": "stdout",
     "output_type": "stream",
     "text": [
      "4\n"
     ]
    }
   ],
   "source": [
    "a = 4\n",
    "A = \"rakesh\"\n",
    "print(a)"
   ]
  },
  {
   "cell_type": "code",
   "execution_count": 12,
   "metadata": {},
   "outputs": [
    {
     "name": "stdout",
     "output_type": "stream",
     "text": [
      "cherry\n"
     ]
    }
   ],
   "source": [
    "fruits = [\"apple\",\"cherry\",\"banana\"]\n",
    "x,y,z =fruits \n",
    "print(y)"
   ]
  },
  {
   "cell_type": "code",
   "execution_count": 13,
   "metadata": {},
   "outputs": [
    {
     "name": "stdout",
     "output_type": "stream",
     "text": [
      "integer: 234\n"
     ]
    }
   ],
   "source": [
    "integer = 234\n",
    "print(\"integer:\", integer)"
   ]
  },
  {
   "cell_type": "code",
   "execution_count": 16,
   "metadata": {},
   "outputs": [
    {
     "name": "stdout",
     "output_type": "stream",
     "text": [
      "float: 34345.4\n"
     ]
    }
   ],
   "source": [
    "float = 34345.4\n",
    "print(\"float:\", float)"
   ]
  },
  {
   "cell_type": "code",
   "execution_count": 19,
   "metadata": {},
   "outputs": [
    {
     "name": "stdout",
     "output_type": "stream",
     "text": [
      "-22\n"
     ]
    }
   ],
   "source": [
    "a = 23\n",
    "b = 45\n",
    "sum = a + b\n",
    "subtract = a - b\n",
    "print(subtract)"
   ]
  },
  {
   "cell_type": "code",
   "execution_count": 20,
   "metadata": {},
   "outputs": [
    {
     "name": "stdout",
     "output_type": "stream",
     "text": [
      "2\n"
     ]
    }
   ],
   "source": [
    "x = int(2.4)\n",
    "y = int (2)\n",
    "z = int(2.2222)\n",
    "print(z)"
   ]
  },
  {
   "cell_type": "code",
   "execution_count": 1,
   "metadata": {},
   "outputs": [
    {
     "name": "stdout",
     "output_type": "stream",
     "text": [
      "Rakesh Ramesh\n"
     ]
    }
   ],
   "source": [
    "first_name = \"Rakesh\" \n",
    "last_name = \"Ramesh\"\n",
    "full_name = first_name + \" \" + last_name\n",
    "full_name2 =  f\"{first_name} {last_name}\"\n",
    "print(full_name2)"
   ]
  },
  {
   "cell_type": "code",
   "execution_count": 3,
   "metadata": {},
   "outputs": [
    {
     "name": "stdout",
     "output_type": "stream",
     "text": [
      "<class 'str'>\n"
     ]
    }
   ],
   "source": [
    "my_number=123123\n",
    "my_new_number= str(my_number)\n",
    "print(type(my_new_number))"
   ]
  },
  {
   "cell_type": "code",
   "execution_count": 45,
   "metadata": {},
   "outputs": [
    {
     "name": "stdout",
     "output_type": "stream",
     "text": [
      "['google', 'tiktok']\n"
     ]
    }
   ],
   "source": [
    "#declare a list of channels\n",
    "channels = [\"facebook\",\"google\", \"tiktok\",\"snapchat\",\"affilate\"]\n",
    "print(channels[1:3])"
   ]
  },
  {
   "cell_type": "code",
   "execution_count": 53,
   "metadata": {},
   "outputs": [
    {
     "name": "stdout",
     "output_type": "stream",
     "text": [
      "1\n"
     ]
    }
   ],
   "source": [
    "my_tuple = (\"facebook\",\"google\", \"tiktok\",\"snapchat\",\"affilate\")\n",
    "print(my_tuple.index(\"google\"))"
   ]
  },
  {
   "cell_type": "code",
   "execution_count": 55,
   "metadata": {},
   "outputs": [
    {
     "name": "stdout",
     "output_type": "stream",
     "text": [
      "{'snapchat', 'tiktok', 'twitter', 'google', 'affilate', 'facebook'}\n"
     ]
    }
   ],
   "source": [
    "#declare set\n",
    "channels_new = {\"facebook\",\"google\", \"tiktok\",\"snapchat\",\"affilate\"}\n",
    "channels_new.add(\"twitter\")\n",
    "print(channels_new)"
   ]
  },
  {
   "cell_type": "code",
   "execution_count": 83,
   "metadata": {},
   "outputs": [
    {
     "name": "stdout",
     "output_type": "stream",
     "text": [
      "dict_keys(['Name', 'From', 'State'])\n"
     ]
    }
   ],
   "source": [
    "#declare dictionary\n",
    "My_Address = {\n",
    "    \"street_name\": \"Lisa_fitkko_str\",\n",
    "    \"house_no\": 4,\n",
    "    \"pincode\":10557\n",
    "}\n",
    "\n",
    "me = {\n",
    "    \"Name\": \"Rakesh\",\n",
    "    \"From\": \"india\",\n",
    "    \"State\": \"kerala\"\n",
    "}\n",
    "\n",
    "print(me.keys())"
   ]
  },
  {
   "cell_type": "code",
   "execution_count": 98,
   "metadata": {},
   "outputs": [
    {
     "name": "stdout",
     "output_type": "stream",
     "text": [
      "Budget_a and Budget_b are equal\n"
     ]
    }
   ],
   "source": [
    "Budget_a = 10000\n",
    "Budget_b = 10000\n",
    "Budget_c = 30000\n",
    "\n",
    "if Budget_a > Budget_b:\n",
    "       print(\"Budget_a is higher\")\n",
    "elif Budget_a == Budget_b == Budget_c:\n",
    "       print(\"Budget_a and Budget_b and Budget_c are equal\")\n",
    "elif Budget_a == Budget_b:\n",
    "       print(\"Budget_a and Budget_b are equal\")\n",
    "else:\n",
    "       print(\"Budget_b is higher than Budget_a\")"
   ]
  },
  {
   "cell_type": "code",
   "execution_count": 99,
   "metadata": {},
   "outputs": [
    {
     "name": "stdout",
     "output_type": "stream",
     "text": [
      "['eggs', 'bread', 'milk']\n"
     ]
    }
   ],
   "source": [
    "#create a list \n",
    "Shopping_list = [\"eggs\",\"bread\",\"milk\"]\n",
    "print(Shopping_list)"
   ]
  },
  {
   "cell_type": "code",
   "execution_count": null,
   "metadata": {},
   "outputs": [
    {
     "name": "stdout",
     "output_type": "stream",
     "text": [
      "h\n",
      "e\n",
      "l\n",
      "l\n",
      "o\n",
      " \n",
      "w\n",
      "o\n",
      "r\n",
      "l\n",
      "d\n",
      "11\n",
      "d\n"
     ]
    }
   ],
   "source": [
    "#my_list = [\"one\", \"two\", \"three\", \"four\", \"five\"]\n",
    "my_string = \"hello world\"\n",
    "#print(my_list[0])\n",
    "i = 0\n",
    "while i < len(my_string):\n",
    " print(my_string[i])\n",
    " i= i + 1\n",
    "#print(\"length\", len(my_list))\n",
    "print(len(my_string))\n",
    "print(my_string[10])"
   ]
  },
  {
   "cell_type": "code",
   "execution_count": 113,
   "metadata": {},
   "outputs": [
    {
     "name": "stdout",
     "output_type": "stream",
     "text": [
      "scanning item: apple\n",
      "scanning item: banana\n",
      "scanning item: orange\n",
      "scanning item: milk\n",
      "scanning item: bread\n"
     ]
    }
   ],
   "source": [
    "cart = [\"apple\", \"banana\", \"orange\", \"milk\", \"bread\"]\n",
    "item_position = 0\n",
    "\n",
    "while item_position <len(cart):\n",
    "    print(\"scanning item:\", cart [item_position])\n",
    "    item_position  = item_position +1\n"
   ]
  },
  {
   "cell_type": "code",
   "execution_count": 124,
   "metadata": {},
   "outputs": [
    {
     "name": "stdout",
     "output_type": "stream",
     "text": [
      "Rakesh\n",
      "Rakesh\n",
      "Rakesh\n",
      "Rakesh\n",
      "Rakesh\n",
      "Rakesh\n",
      "Rakesh\n",
      "Rakesh\n",
      "Rakesh\n",
      "Rakesh\n"
     ]
    }
   ],
   "source": [
    "i = 0\n",
    "while i < 10:\n",
    "    print(\"Rakesh\")\n",
    "    i = i + 1"
   ]
  },
  {
   "cell_type": "code",
   "execution_count": 139,
   "metadata": {},
   "outputs": [
    {
     "name": "stdout",
     "output_type": "stream",
     "text": [
      "r\n",
      "a\n",
      "k\n",
      "e\n",
      "s\n",
      "h\n"
     ]
    }
   ],
   "source": [
    "my_name = \"rakesh\"\n",
    "i = 0\n",
    "while i < len(my_name):\n",
    "    print(my_name[i])\n",
    "    i = i + 1"
   ]
  },
  {
   "cell_type": "code",
   "execution_count": 140,
   "metadata": {},
   "outputs": [
    {
     "name": "stdout",
     "output_type": "stream",
     "text": [
      "b\n",
      "l\n",
      "u\n",
      "e\n"
     ]
    }
   ],
   "source": [
    "colour =\"blue\"\n",
    "position  = 0\n",
    "while position < len(colour):\n",
    "    print(colour[position])\n",
    "    position =position + 1"
   ]
  },
  {
   "cell_type": "code",
   "execution_count": 141,
   "metadata": {},
   "outputs": [
    {
     "name": "stdout",
     "output_type": "stream",
     "text": [
      "Monday\n",
      "Tuesday\n",
      "Wednesday\n",
      "Thursday\n"
     ]
    }
   ],
   "source": [
    "days = [\"Monday\",\"Tuesday\",\"Wednesday\",\"Thursday\"]\n",
    "day_no = 0\n",
    "while day_no < len(days):\n",
    "    print(days[day_no])\n",
    "    day_no = day_no + 1\n"
   ]
  },
  {
   "cell_type": "code",
   "execution_count": 143,
   "metadata": {},
   "outputs": [
    {
     "name": "stdout",
     "output_type": "stream",
     "text": [
      "one\n",
      "two\n",
      "three\n"
     ]
    }
   ],
   "source": [
    "numbers = [\"one\",\"two\",\"three\"]\n",
    "i = 0\n",
    "while i < len(numbers):\n",
    "    print(numbers[i])\n",
    "    i = i + 1"
   ]
  },
  {
   "cell_type": "code",
   "execution_count": 144,
   "metadata": {},
   "outputs": [
    {
     "name": "stdout",
     "output_type": "stream",
     "text": [
      "pink\n",
      "blue\n",
      "red\n",
      "purple\n"
     ]
    }
   ],
   "source": [
    "colour = [\"pink\",\"blue\",\"red\",\"purple\"]\n",
    "i = 0\n",
    "while i < len(colour):\n",
    "    print(colour[i])\n",
    "    i = i + 1"
   ]
  },
  {
   "cell_type": "code",
   "execution_count": 148,
   "metadata": {},
   "outputs": [
    {
     "name": "stdout",
     "output_type": "stream",
     "text": [
      "R\n",
      "a\n",
      "k\n",
      "e\n",
      "s\n",
      "h\n"
     ]
    }
   ],
   "source": [
    "my_name = \"Rakesh\"\n",
    "i = 0\n",
    "while i < len(my_name):\n",
    "    print(my_name[i])\n",
    "    i = i + 1"
   ]
  },
  {
   "cell_type": "code",
   "execution_count": 151,
   "metadata": {},
   "outputs": [
    {
     "name": "stdout",
     "output_type": "stream",
     "text": [
      "Day 0 is: Monday\n",
      "Day 1 is: Tuesday\n"
     ]
    }
   ],
   "source": [
    "days = [\"Monday\",\"Tuesday\",\"Wednesday\"]\n",
    "i = 0\n",
    "while i < 2:\n",
    "    print(\"Day\", i + 0,\"is:\",days[i])\n",
    "    i = i + 1 \n"
   ]
  },
  {
   "cell_type": "code",
   "execution_count": 165,
   "metadata": {},
   "outputs": [
    {
     "name": "stdout",
     "output_type": "stream",
     "text": [
      "your name is,rakesh\n"
     ]
    }
   ],
   "source": [
    "def your_name(name):\n",
    "    print(\"your name is,\" + name)\n",
    "\n",
    "your_name(\"rakesh\")"
   ]
  },
  {
   "cell_type": "code",
   "execution_count": 171,
   "metadata": {},
   "outputs": [
    {
     "name": "stdout",
     "output_type": "stream",
     "text": [
      "your place is, kannur\n"
     ]
    }
   ],
   "source": [
    "def your_place(place):\n",
    "    print(\"your place is,\" ,  place)\n",
    "\n",
    "your_place(\"kannur\")"
   ]
  },
  {
   "cell_type": "code",
   "execution_count": 175,
   "metadata": {},
   "outputs": [
    {
     "name": "stdout",
     "output_type": "stream",
     "text": [
      "dinner\n"
     ]
    }
   ],
   "source": [
    "def suggest_meal(time):\n",
    "    meal = \"\"\n",
    "    if time > 0 and time < 8:\n",
    "        meal = \"breakfast\"\n",
    "    elif time > 8 and time < 2:\n",
    "        meal = \"lunch\"\n",
    "    elif time > 2 and time < 6:\n",
    "        meal = \"snack\"\n",
    "    else:\n",
    "        meal = \"dinner\"\n",
    "        print(meal)\n",
    "\n",
    "suggest_meal(10)"
   ]
  },
  {
   "cell_type": "code",
   "execution_count": null,
   "metadata": {},
   "outputs": [
    {
     "name": "stdout",
     "output_type": "stream",
     "text": [
      "7\n"
     ]
    }
   ],
   "source": [
    "def add_nums(num1, num2):\n",
    "    result = num1 + num2\n",
    "    return result\n",
    "print(add_nums(30,34))"
   ]
  },
  {
   "cell_type": "code",
   "execution_count": null,
   "metadata": {},
   "outputs": [
    {
     "name": "stdout",
     "output_type": "stream",
     "text": [
      "apple\n",
      "banana\n",
      "mango\n"
     ]
    }
   ],
   "source": [
    "my_list = [\"apple\",\"banana\",\"mango\"]\n",
    "for name in my_list:\n",
    "    print(name(lower))"
   ]
  },
  {
   "cell_type": "code",
   "execution_count": 188,
   "metadata": {},
   "outputs": [
    {
     "name": "stdout",
     "output_type": "stream",
     "text": [
      "Wirenz\n"
     ]
    }
   ],
   "source": [
    "my_pet = {\n",
    "  \"name\": \"Wirenz\",\n",
    "  \"animal\": \"cat\",\n",
    "  \"age\": 16,\n",
    "  \"desexed\": True \n",
    "}\n",
    "\n",
    "me = {\n",
    "  \"name\": \"Emily\",\n",
    "  \"from\": \"Australia\",\n",
    "  \"pet\": my_pet\n",
    "}\n",
    "\n",
    "print(my_pet[\"name\"])"
   ]
  },
  {
   "cell_type": "code",
   "execution_count": 1,
   "metadata": {},
   "outputs": [
    {
     "name": "stdout",
     "output_type": "stream",
     "text": [
      "999\n"
     ]
    }
   ],
   "source": [
    "a = [1,2,3,4,6,7,99,88,999]\n",
    "max_num = 0\n",
    "for i in a:\n",
    "    if i > max_num:\n",
    "        max_num = i\n",
    "print(max_num)"
   ]
  },
  {
   "cell_type": "code",
   "execution_count": null,
   "metadata": {},
   "outputs": [],
   "source": [
    "def is_item_in_list_returned(list, item):\n",
    "  for value in list:\n",
    "    if value == item:\n",
    "      return True\n",
    "  return False\n",
    "\n",
    "fruits = [\"banana\", \"apple\", \"mango\", \"kiwi\"]\n",
    "# is_item_in_list(fruits, \"apple\")\n",
    "is_item_in_list(fruits, \"blueberry\")\n"
   ]
  },
  {
   "cell_type": "markdown",
   "metadata": {},
   "source": [
    "# Exercise 1\n",
    "\n",
    "In your file create a variable called my_name with your name as the value. Put your name inside string quotes, e.g., \"my name\". Then add a line of code to print the variable name.\n",
    "\n",
    "Save your file and run the cell. You should see your name printed. If not, investigate and fix it.\n"
   ]
  },
  {
   "cell_type": "code",
   "execution_count": 1,
   "metadata": {},
   "outputs": [
    {
     "name": "stdout",
     "output_type": "stream",
     "text": [
      "rakesh\n"
     ]
    }
   ],
   "source": [
    "my_name = \"rakesh\"\n",
    "print(my_name)"
   ]
  },
  {
   "cell_type": "markdown",
   "metadata": {},
   "source": [
    "# Exercise 3\n",
    "Create a variable called julia_age with the value 32. Create another variable called age_diff and set it to an expression that calculates your age minus Julias's age. Print your age and the value of age_diff. If you are younger than Julia, age_diff should be a negative number.\n",
    "\n",
    "Writing Code with Conditionals\n",
    "Conditionals are forms used in programming to tell the computer to do different things, depending on some test, e.g., \"if the user is logged in, say \"Hi\", else say \"Please log in.\"\n",
    "\n",
    "The most basic conditional form is if...else..."
   ]
  },
  {
   "cell_type": "code",
   "execution_count": 5,
   "metadata": {},
   "outputs": [
    {
     "name": "stdout",
     "output_type": "stream",
     "text": [
      "julia is younger by -6 old\n"
     ]
    }
   ],
   "source": [
    "julia_age = 32\n",
    "my_age = 38\n",
    "age_diff = (julia_age-my_age)\n",
    "if julia_age < my_age:\n",
    "    print(\"julia is younger by\",age_diff,\"old\")\n",
    "else:\n",
    "    print(\"you are younger by\",age_diff, \"old\")"
   ]
  },
  {
   "cell_type": "markdown",
   "metadata": {},
   "source": [
    "# Exercise 7\n",
    "Create a list with all the ages of the students in your class. Iterate through the list using a for loop, and then print every age. Add a conditional inside the loop to only print even numbers.\n",
    "You should see every age printed, then only the even numbers printed. If not, investigate and fix it.\n",
    "Then do the same using a while loop.\n"
   ]
  },
  {
   "cell_type": "code",
   "execution_count": 12,
   "metadata": {},
   "outputs": [
    {
     "name": "stdout",
     "output_type": "stream",
     "text": [
      "23\n",
      "33\n",
      "25\n"
     ]
    }
   ],
   "source": [
    "age = [34,23,56,33,25]\n",
    "for x in age:\n",
    "    if x % 2 == 1:\n",
    "        print(x)"
   ]
  },
  {
   "cell_type": "markdown",
   "metadata": {},
   "source": [
    "# Exercise 10\n",
    "Given below is a list of 10 customers with year of birth, however, the list can be as large as several thousands of customers.Use a loop to iterate over the list and print the age of each customer."
   ]
  },
  {
   "cell_type": "code",
   "execution_count": 42,
   "metadata": {},
   "outputs": [
    {
     "name": "stdout",
     "output_type": "stream",
     "text": [
      "25\n",
      "29\n",
      "19\n",
      "14\n",
      "17\n",
      "18\n",
      "30\n",
      "28\n",
      "45\n",
      "16\n"
     ]
    }
   ],
   "source": [
    "years =[1999, 1995, 2005, 2010, 2007, 2006, 1994, 1996, 1979, 2008]\n",
    "current_year = 2024\n",
    "for x in years:\n",
    "        print(current_year-x)\n"
   ]
  },
  {
   "cell_type": "markdown",
   "metadata": {},
   "source": [
    "# Exercise 11 \n",
    "Given below is a list of 10 customers with name and year of birth, however, the list can be as large as several thousands of customers.\n",
    "\n",
    "Use a loop to iterate over the list and print the name and age of each customer.\n",
    "Afterwards, for each customer try to print the sentence \"customer_name is customer_age years old\".\n",
    "customer_name and customer_age should correspond to each customer's name and age."
   ]
  },
  {
   "cell_type": "code",
   "execution_count": 55,
   "metadata": {},
   "outputs": [
    {
     "name": "stdout",
     "output_type": "stream",
     "text": [
      "25\n",
      "29\n",
      "19\n",
      "14\n",
      "17\n",
      "18\n",
      "30\n",
      "28\n",
      "45\n",
      "16\n"
     ]
    }
   ],
   "source": [
    "customer_list = [\n",
    "                    {\"name\": \"Bob\", \"age\": 1999},\n",
    "                    {\"name\": \"Jack\", \"age\": 1995},\n",
    "                    {\"name\": \"Lisa\", \"age\": 2005},\n",
    "                    {\"name\": \"Maria\", \"age\": 2010},\n",
    "                    {\"name\": \"Ben\", \"age\": 2007},\n",
    "                    {\"name\": \"Emma\", \"age\": 2006},\n",
    "                    {\"name\": \"Oscar\", \"age\": 1994},\n",
    "                    {\"name\": \"Amy\", \"age\": 1996},\n",
    "                    {\"name\": \"Paul\", \"age\": 1979},\n",
    "                    {\"name\": \"Etta\", \"age\": 2008}\n",
    "                ]\n",
    "current_year = 2024\n",
    "for x in customer_list:\n",
    "    age = current_year - x[\"age\"]\n",
    "    print(age)"
   ]
  },
  {
   "cell_type": "code",
   "execution_count": 56,
   "metadata": {},
   "outputs": [
    {
     "name": "stdout",
     "output_type": "stream",
     "text": [
      "blue\n"
     ]
    }
   ],
   "source": [
    "favourate_colour = \"blue\"\n",
    "print(favourate_colour)\n"
   ]
  },
  {
   "cell_type": "code",
   "execution_count": 58,
   "metadata": {},
   "outputs": [
    {
     "ename": "SyntaxError",
     "evalue": "invalid syntax (3227569989.py, line 5)",
     "output_type": "error",
     "traceback": [
      "\u001b[0;36m  Cell \u001b[0;32mIn[58], line 5\u001b[0;36m\u001b[0m\n\u001b[0;31m    elif:\u001b[0m\n\u001b[0m        ^\u001b[0m\n\u001b[0;31mSyntaxError\u001b[0m\u001b[0;31m:\u001b[0m invalid syntax\n"
     ]
    }
   ],
   "source": [
    "birth_year = 2000\n",
    "current_year = 2024\n",
    "if birth_year < 2000:\n",
    "    print(\"you are born before 21st century\")\n",
    "birth_year >2000:\n",
    "print(\"you are born after 21st century\")"
   ]
  }
 ],
 "metadata": {
  "kernelspec": {
   "display_name": "CAB_V1",
   "language": "python",
   "name": "python3"
  },
  "language_info": {
   "codemirror_mode": {
    "name": "ipython",
    "version": 3
   },
   "file_extension": ".py",
   "mimetype": "text/x-python",
   "name": "python",
   "nbconvert_exporter": "python",
   "pygments_lexer": "ipython3",
   "version": "3.12.2"
  },
  "orig_nbformat": 4
 },
 "nbformat": 4,
 "nbformat_minor": 2
}
